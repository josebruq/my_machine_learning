{
 "cells": [
  {
   "cell_type": "markdown",
   "id": "c48d935d",
   "metadata": {},
   "source": [
    "# Preprocesado de datos\n",
    "\n",
    "¿Que librerias necesitamos para preprocesar datos?\n",
    "\n",
    "-numpy as np  (contiene herramientas matemáticas)\n",
    "\n",
    "-matplotlib.pyplot as plt (sublibreria para gráficos)\n",
    "\n",
    "-pandas as pd (librería para cargar datos)\n",
    "\n"
   ]
  },
  {
   "cell_type": "code",
   "execution_count": 1,
   "id": "e844c4c0",
   "metadata": {},
   "outputs": [],
   "source": [
    "import numpy as np\n",
    "import matplotlib.pyplot as plt\n",
    "import pandas as pd "
   ]
  },
  {
   "cell_type": "markdown",
   "id": "42b4d8b2",
   "metadata": {},
   "source": [
    "## ¿Como importar datos?"
   ]
  },
  {
   "cell_type": "code",
   "execution_count": 3,
   "id": "2904a7f6",
   "metadata": {},
   "outputs": [
    {
     "data": {
      "text/html": [
       "<div>\n",
       "<style scoped>\n",
       "    .dataframe tbody tr th:only-of-type {\n",
       "        vertical-align: middle;\n",
       "    }\n",
       "\n",
       "    .dataframe tbody tr th {\n",
       "        vertical-align: top;\n",
       "    }\n",
       "\n",
       "    .dataframe thead th {\n",
       "        text-align: right;\n",
       "    }\n",
       "</style>\n",
       "<table border=\"1\" class=\"dataframe\">\n",
       "  <thead>\n",
       "    <tr style=\"text-align: right;\">\n",
       "      <th></th>\n",
       "      <th>Country</th>\n",
       "      <th>Age</th>\n",
       "      <th>Salary</th>\n",
       "      <th>Purchased</th>\n",
       "    </tr>\n",
       "  </thead>\n",
       "  <tbody>\n",
       "    <tr>\n",
       "      <th>0</th>\n",
       "      <td>France</td>\n",
       "      <td>44.0</td>\n",
       "      <td>72000.0</td>\n",
       "      <td>No</td>\n",
       "    </tr>\n",
       "    <tr>\n",
       "      <th>1</th>\n",
       "      <td>Spain</td>\n",
       "      <td>27.0</td>\n",
       "      <td>48000.0</td>\n",
       "      <td>Yes</td>\n",
       "    </tr>\n",
       "    <tr>\n",
       "      <th>2</th>\n",
       "      <td>Germany</td>\n",
       "      <td>30.0</td>\n",
       "      <td>54000.0</td>\n",
       "      <td>No</td>\n",
       "    </tr>\n",
       "    <tr>\n",
       "      <th>3</th>\n",
       "      <td>Spain</td>\n",
       "      <td>38.0</td>\n",
       "      <td>61000.0</td>\n",
       "      <td>No</td>\n",
       "    </tr>\n",
       "    <tr>\n",
       "      <th>4</th>\n",
       "      <td>Germany</td>\n",
       "      <td>40.0</td>\n",
       "      <td>NaN</td>\n",
       "      <td>Yes</td>\n",
       "    </tr>\n",
       "  </tbody>\n",
       "</table>\n",
       "</div>"
      ],
      "text/plain": [
       "   Country   Age   Salary Purchased\n",
       "0   France  44.0  72000.0        No\n",
       "1    Spain  27.0  48000.0       Yes\n",
       "2  Germany  30.0  54000.0        No\n",
       "3    Spain  38.0  61000.0        No\n",
       "4  Germany  40.0      NaN       Yes"
      ]
     },
     "execution_count": 3,
     "metadata": {},
     "output_type": "execute_result"
    }
   ],
   "source": [
    "# Importamos el dataset\n",
    "dataset=pd.read_csv('Data.csv')  \n",
    "dataset.head()"
   ]
  },
  {
   "cell_type": "markdown",
   "id": "c22b49d2",
   "metadata": {},
   "source": [
    "Normalmente tenemos que distinguir entre variables independientes (X) y variables a predecir (Y).\n",
    "\n",
    "En el caso que nos ocupa, buscamos precedir la compra o no mediante el análisis de las varibles Country, Age y Salary.\n",
    "\n",
    "Por tanto:\n",
    "\n",
    "X --> Country, Age y Salary\n",
    "\n",
    "Y --> Purchased\n",
    "\n",
    "Debemos separar el conjunto de datos en submatrices X e Y.\n"
   ]
  },
  {
   "cell_type": "code",
   "execution_count": 7,
   "id": "3c30c7a1",
   "metadata": {},
   "outputs": [],
   "source": [
    "X=dataset.iloc[:,:-1].values\n",
    "Y=dataset.iloc[:,-1].values"
   ]
  },
  {
   "cell_type": "markdown",
   "id": "f842e723",
   "metadata": {},
   "source": [
    "## ¿Que hacer con los datos NaN?\n",
    "\n",
    "Una de las soluciones sería eliminar todas las filas que contengan NaN, pero esto puede no ser conveniente a la hora de realizar análisis finos (Ejm: Una enfermedad rara)\n",
    "\n",
    "La solución más aceptable es reemplazar los NaN por los valores medios \n",
    "aunque también podriamos reemplazarlos por los valores moda o la mediana.\n",
    "\n",
    "Usamos la librería sklearn.impute de la que importamos la clase SimpleImputer"
   ]
  },
  {
   "cell_type": "code",
   "execution_count": 51,
   "id": "1d692199",
   "metadata": {},
   "outputs": [
    {
     "name": "stdout",
     "output_type": "stream",
     "text": [
      "[['France' 44.0 72000.0]\n",
      " ['Spain' 27.0 48000.0]\n",
      " ['Germany' 30.0 54000.0]\n",
      " ['Spain' 38.0 61000.0]\n",
      " ['Germany' 40.0 63777.77777777778]\n",
      " ['France' 35.0 58000.0]\n",
      " ['Spain' 38.77777777777778 52000.0]\n",
      " ['France' 48.0 79000.0]\n",
      " ['Germany' 50.0 83000.0]\n",
      " ['France' 37.0 67000.0]]\n"
     ]
    }
   ],
   "source": [
    "#Código para reemplazar los valores NaN por la media\n",
    "\n",
    "from sklearn.impute import SimpleImputer\n",
    "\n",
    "imputer = SimpleImputer(missing_values=np.nan, strategy='mean')\n",
    "imputer.fit(X[:,1:3])\n",
    "X[:,1:3] = imputer.transform(X[:,1:3])\n",
    "\n",
    "print(X)\n",
    " "
   ]
  },
  {
   "cell_type": "code",
   "execution_count": null,
   "id": "3ac84ad3",
   "metadata": {},
   "outputs": [],
   "source": []
  }
 ],
 "metadata": {
  "kernelspec": {
   "display_name": "Python 3 (ipykernel)",
   "language": "python",
   "name": "python3"
  },
  "language_info": {
   "codemirror_mode": {
    "name": "ipython",
    "version": 3
   },
   "file_extension": ".py",
   "mimetype": "text/x-python",
   "name": "python",
   "nbconvert_exporter": "python",
   "pygments_lexer": "ipython3",
   "version": "3.11.5"
  }
 },
 "nbformat": 4,
 "nbformat_minor": 5
}
